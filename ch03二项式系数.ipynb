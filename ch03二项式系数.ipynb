{
 "cells": [
  {
   "cell_type": "markdown",
   "metadata": {},
   "source": [
    "### 1.用二项式定理展开 $(2x-y)^7$\n",
    "$\\sum_{i=0}^{7}(-1)^{7-i}2^iC_7^ix^iy^{7-i}$"
   ]
  },
  {
   "cell_type": "markdown",
   "metadata": {},
   "source": [
    "### 2.$(3x-2y)^18$的展开式中，$x^5y^13$的系数是什么？$x^8y^10$的系数是什么?\n",
    "$C_{18}^53^5(-2)^{13}$, $C_{18}^{8}3^8(-2)^{10}$"
   ]
  },
  {
   "cell_type": "markdown",
   "metadata": {},
   "source": [
    "### *3. 证明\n",
    "#### (1)设 $n$为大于等于2的整数，则:$C_n^1-2C_n^2+3C_n^3+\\cdots+(-1)^{n-1}\\cdot nC_n^n = 0$\n",
    "微分. 对等式$(1+x)^n = \\sum_{i=0}^{n}C_n^ix^i$两边在 $x=-1$处求导数，得左边\n",
    "$[(1+x)^n]^{'}|_{x=-1}=n(1+x)^{n-1}|_{x=-1}=0$,右边$[\\sum_{i=0}^{n}C_n^ix^i]^{'}|_{x=-1}=\\sum_{i=1}^{n}iC_n^ix^{i-1}|_{x=-1}$，从而$$C_n^1-2C_n^2+3C_n^3+\\cdots+(-1)^{n-1}\\cdot nC_n^n = 0$$\n",
    "#### (2) 设$n$为正整数，则 $1+\\frac{1}{2}C_n^1+\\frac{1}{3}C_n^2+\\frac{1}{4}C_n^3+\\cdots+\\frac{1}{n+1}C_n^n = \\frac{1}{n+1}(2^{n+1}-1)$\n",
    "积分. 对等式$(1+x)^n = \\sum_{i=0}^{n}C_n^ix^i$两边求$x\\in[0, 1]$上的定积分，得左边$\\int_0^1(1+x)^ndx = \\frac{1}{n+1}(1+x)^{n+1}|_{0}^{1} = \\frac{1}{n+1}(2^{n+1}-1)$, 右边 $\\int_0^1\\sum_{i=0}^{n}C_n^ix^i=\\sum_{i=0}^{n}\\int_0^1C_n^ix^i = \\sum_{i=0}^n\\frac{1}{i+1}C_n^ix^{i+1}|_0^1=\\sum_{i=0}^n\\frac{1}{i+1}C_n^i$,从而 $$1+\\frac{1}{2}C_n^1+\\frac{1}{3}C_n^2+\\frac{1}{4}C_n^3+\\cdots+\\frac{1}{n+1}C_n^n = \\frac{1}{n+1}(2^{n+1}-1)$$"
   ]
  },
  {
   "cell_type": "markdown",
   "metadata": {},
   "source": [
    "### *4. 给出$C_n^mC_r^0 + C_{n-1}^{m-1}C_{r+1}^1 + C_{n-2}^{m-2}C_{r+2}^2+\\cdots+C_{n-m}^0C_{r+m}^{m} = C_{n+r+1}^m$的组合意义\n",
    "等式右端相当于点$(r, m)$到点$(m+r, n+r+1)$的路径数，我们将这些路径数分为如下$m+1$类: 第 $i(0\\le i\\le m)$是从$(r, m)$点途经$(r+i, n)$点，然后沿垂直方向走到$(r+i, n+1)$点，最后到达$(m+r, n+r+1)$点，路径数为：$C_{n-m+i}^i\\cdot 1 \\cdot C_{r+m-i}^r$.根据加法原理，有$$C_n^mC_r^0 + C_{n-1}^{m-1}C_{r+1}^1 + C_{n-2}^{m-2}C_{r+2}^2+\\cdots+C_{n-m}^0C_{r+m}^{m} = C_{n+r+1}^m$$"
   ]
  },
  {
   "cell_type": "markdown",
   "metadata": {},
   "source": [
    "### 5. 给出 $C_r^r + C_{r+1}^r+C_{r+2}^r+\\cdots + C_n^r = C_{n+1}^{r+1}$ 的组合意义\n",
    "参考3.3节 等式4\n",
    "\n",
    "$C_{n+1}^{r+1} = C_{n}^{r}+C_{n}^{r+1}$, n+1元集合$A={a_1, a_2, \\cdots, a_n}$的r+1元子集可以分为两类：第一类r+1元子集含$a_1$, 第二类r+1元子集不含a_1.第一类r元子集中的任一个去掉。第一类r+1元子集中的任一个去掉$a_1$后，就是$A-{a_1}$的r元子集；反过来，任给一个$A-{a_1}$的r元子集，添上$a_1$后就是A的$r+1$元子集，故两者之间有一一对应的关系。因此，第一类r+1元子集共有$C_n^r$个.第二类r+1元子集就是A-{a_1}的r+1元子集，共有$C_n^{r+1}$。然后采用相同的思路对第二类r+1元子集依次考虑含不含$a_2$继续分类下去。最后得到：\n",
    "$C_r^r + C_{r+1}^r+C_{r+2}^r+\\cdots + C_n^r = C_{n+1}^{r+1}$ "
   ]
  },
  {
   "cell_type": "markdown",
   "metadata": {},
   "source": [
    "### 6. 证明 $C_m^0C_m^n + C_m^1C_{m-1}^{n-1} + \\cdots + C_m^nC_{m-n}^0 = 2^nC_m^n$\n",
    "利用题目12的结论，然后把 2^n 展开成 $\\sum_{i=0}^n C_n^i$"
   ]
  },
  {
   "cell_type": "markdown",
   "metadata": {},
   "source": [
    "### 7. 利用$m^2 = 2C_m^2+C_m^1$，求 $1^2 + 2^2 + \\cdots + n^2$\n",
    "利用题目5的结论。"
   ]
  },
  {
   "cell_type": "markdown",
   "metadata": {},
   "source": [
    "### 8.求整数$a, b, c$，使得$m^3 = aC_m^3 + bC_m^2 + cC_m^1$,并计算 $1^3+2^3 + \\cdots + n^3$\n",
    "类似于题目7"
   ]
  },
  {
   "cell_type": "markdown",
   "metadata": {},
   "source": [
    "### 9.证明 $\\sum_{k=0}^nC_{m_1}^kC_{n-k}^{m_2} = C_{m_1+m_2}^n$\n",
    "参考3.3节 等式5"
   ]
  },
  {
   "cell_type": "markdown",
   "metadata": {},
   "source": [
    "### 10.证明\n",
    "#### (1)在由数字集${0, 1, 2}$生成的长度为$n$的字符串中, 0出现偶数次的字符串有 $\\frac{3^n+1}{2}$个\n",
    "奇数次（ $\\frac{3^n+1}{2}$） + 偶数次（ $\\frac{3^n-1}{2}$） = 所有情况($3^n$)\n",
    "#### (2) 设 $q = 2\\lfloor \\frac{n}{2} \\rfloor$，则$C_n^02^n + C_n^22^{n-2}+\\cdots + C_n^q2^{n-q} = \\frac{3^n+1}{2}$\n",
    "利用(1)的组合意义，把出现偶数次的字符串依次分为0次， 2次， 4次， $\\cdots$, $\\lfloor \\frac{n}{2} \\rfloor$次。根据加法原则可以得到左边等于右边。"
   ]
  },
  {
   "cell_type": "markdown",
   "metadata": {},
   "source": [
    "### *11. 证明 $C_n^0C_n^1 + C_n^1C_n^2+\\cdot+C_n^{n-1}C_n^{n} = \\frac{(2n)!}{(n-1)!(n+1)!}$\n",
    "等式左边可以写成$C_n^0C_n^{n-1} + C_n^1C_n^{n-2}+ \\dots + C_n^{n-1}C_n^0$, 右边可以写成$C_{2n}^{n-1}$.可以从组合意义上来证明这个等式，\\C_{2n}^n是从$2n$元集合A的$n-1$的组合数，把集合$A_1$和$A_2$,使$|A_1|=|A_2|=n$, 则从A的n元子集可以分为如下n类：从$A_1$中选取$i(0\\le i \\le n-1)$个元素,从$A_2$中选取$n-1-i$个元素，将从$A_1$和$A_2$中取出的元素并到一起构成A的第i类n-1 元子集，则第i类子集的个数为:\n",
    "$C_n^iC_n^{n-1-i}$, 根据加法原则可以得到:\n",
    "$$C_n^0C_n^1 + C_n^1C_n^2+\\cdot+C_n^{n-1}C_n^{n} = \\frac{(2n)!}{(n-1)!(n+1)!}$$"
   ]
  },
  {
   "cell_type": "markdown",
   "metadata": {},
   "source": [
    "### 12. 证明：对一切整数$r \\ge m \\ge k \\ge 0$,有 $C_r^mC_m^k = C_r^kC_{r-k}^{m-k}$\n",
    "$$左边 = \\frac{r!}{m!(r-m)!}\\frac{m!}{k!(m-k)!} = \\frac{r!}{(r-m)!(m-k)!k!}$$\n",
    "$$右边 = C_r^k C_{r-k}^{r-m} = \\frac{r!}{k!(r-k)!}\\frac{(r-k)!}{(r-m)!(m-k)!} = \\frac{r!}{m!(r-m)!}\\frac{m!}{k!(m-k)!} = \\frac{r!}{(r-m)!(m-k)!k!}$$\n"
   ]
  },
  {
   "cell_type": "markdown",
   "metadata": {},
   "source": [
    "### 13.用多项式定理展开$(x_1 + x_2 + x_3)^4$\n",
    "$$(x_1 + x_2 + x_3)^4 = \\sum_{i,j\\ge0, i+j\\le4} C_4^iC_{4-i}^jx_1^ix_2^jx_3^{4-i-j}$$"
   ]
  },
  {
   "cell_type": "markdown",
   "metadata": {},
   "source": [
    "### 14.确定$(x_1 + x_2 + x_3 + x_4 + x_5)^{10}$的展开式中 $x_1^3x_2x_3^4x_5^2$项的系数\n",
    "\n",
    "$C_{10}^{3}C_7^1C_6^4C_2^2 = 12600$"
   ]
  },
  {
   "cell_type": "markdown",
   "metadata": {},
   "source": [
    "### 15.用组合学方法证明恒等式 $C_n^k - C_{n-3}^k = C_{n-1}^{k-1}+C_{n-2}^{k-1}+C_{n-3}^{k-1}$"
   ]
  },
  {
   "cell_type": "markdown",
   "metadata": {},
   "source": [
    "利用递推公式$C_n^m = C_{n-1}^m + C_{n-1}^{m-1}$,可以将$C_n^k$展开， $C_n^k  = C_{n-1}^{k-1}+  C_{n-1}^k = C_{n-1}^{k-1} + C_{n-2}^{k-1}+  C_{n-2}^{k} =  C_{n-1}^{k-1} + C_{n-2}^{k-1}+  C_{n-3}^{k-1} + C_{n-3}^{k}$。从而有$C_n^k - C_{n-3}^k = C_{n-1}^{k-1}+C_{n-2}^{k-1}+C_{n-3}^{k-1}$"
   ]
  },
  {
   "cell_type": "markdown",
   "metadata": {},
   "source": [
    "### 16.求出并证明下面式子的结果 $$\\sum_{r, s, t  \\ge 0 \\\\ r+s+t=0}C_{m_1}^{r}C_{m_2}^sC_{m_3}^t$$\n",
    "\n",
    "可以看出这个式子是多项式$ (x+ y)^{m_1} (x+y)^{m_2} (x+y)^{m_3} = (x+ y)^{m_1 + m_2 + m_3} $, 项数$x^{n}y^{m_1+m_2+m_3-n}$的系数，则有$C_{m_1+m_2+m_3}^n$"
   ]
  },
  {
   "cell_type": "markdown",
   "metadata": {},
   "source": [
    "### 17.  试运用归纳法证明\n",
    "$$ \\frac{1}{(1-z)^n} = \\sum_{k=0}^{\\infty}C_{n+k-1}^kz^k, |z|<1$$"
   ]
  },
  {
   "cell_type": "markdown",
   "metadata": {},
   "source": [
    "### 18. 令n和k为正整数，给出以下恒等式的组合学证明:$n(n+1)2^{n-2} = \\sum_{k=1}^{n}k^2C_n^k$"
   ]
  },
  {
   "cell_type": "markdown",
   "metadata": {},
   "source": [
    "### 19.用牛顿二项式定理近似计算$10^{1/3}$\n",
    "```\n",
    "def fun(r):\n",
    "    if r == 0:\n",
    "        return 1\n",
    "    return r * fun(r-1)\n",
    "   \n",
    "ans = 0\n",
    "for r  in range(0, 30):\n",
    "    sign = 1 if r%2 else -1\n",
    "    tmp = 1\n",
    "    for j in range(2, r+1): \n",
    "        tmp *= (2*j-3)\n",
    "    ans =  ans + (sign *  tmp / fun(r))\n",
    "    \n",
    "```"
   ]
  },
  {
   "cell_type": "markdown",
   "metadata": {},
   "source": [
    "### 20\n",
    "#### (1) 证明 $(1+\\sqrt3)^{2m+1} + (1-\\sqrt3)^{2m+1}$是一个整数；\n",
    "$ (1+\\sqrt3)^{2m+1} + (1-\\sqrt3)^{2m+1} = \\sum_{i=0}^{2m+1}C_{2m+1}^i (\\sqrt 3)^i +  \\sum_{i=0}^{2m+1}(-1)^iC_{2m+1}^i (\\sqrt 3)^i$$ = $$ \\sum_{i=0}^{m}C_{2m+1}^{2i} (\\sqrt 3)^{2i}  = \\sum_{i=0}^{m}C_{2m+1}^{2i} 3^i $,所以 $(1+\\sqrt3)^{2m+1} + (1-\\sqrt3)^{2m+1}$是一个整数\n",
    "#### (2) 证明 $(1-\\sqrt3)^{2m+1}$ 是 -1和0之间的一个数，并且 $-(1-\\sqrt 3)^{2m+1}$是 $(1+\\sqrt3)^{2m+1}$的小数部分\n",
    " $(1-\\sqrt3)^{2m+1} = ((1-\\sqrt3)^2)^m (1-\\sqrt3)$, 因为$-1 \\lt (1-\\sqrt3)\\lt 0$，所以$((1−\\sqrt3)^2)^𝑚$ \n",
    " 介于0到1之间，从而$(1-\\sqrt3)^{2m+1}$ 是 -1和0之间的一个数。\n",
    "根据(1)的结论， $(1+\\sqrt3)^{2m+1}$减去 $-(1-\\sqrt 3)^{2m+1}$是整数，且$-(1-\\sqrt3)^{2m+1}$ 是0和1之间的一个数，可以得出 $-(1-\\sqrt 3)^{2m+1}$是 $(1+\\sqrt3)^{2m+1}$的小数部分。"
   ]
  }
 ],
 "metadata": {
  "kernelspec": {
   "display_name": "Python 3",
   "language": "python",
   "name": "python3"
  },
  "language_info": {
   "codemirror_mode": {
    "name": "ipython",
    "version": 3
   },
   "file_extension": ".py",
   "mimetype": "text/x-python",
   "name": "python",
   "nbconvert_exporter": "python",
   "pygments_lexer": "ipython3",
   "version": "3.7.3"
  }
 },
 "nbformat": 4,
 "nbformat_minor": 2
}
